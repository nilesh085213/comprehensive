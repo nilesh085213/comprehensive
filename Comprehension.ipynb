{
 "cells": [
  {
   "cell_type": "code",
   "execution_count": 1,
   "id": "bc43ef97-4ac7-4c14-bc0f-c45b7a228f3e",
   "metadata": {},
   "outputs": [],
   "source": [
    "l = [1,2,3,4,45,5]\n",
    "l1 = []\n",
    "for i in l :\n",
    "    l1.append(i**2)"
   ]
  },
  {
   "cell_type": "code",
   "execution_count": 2,
   "id": "2ceaff2d-1e0d-49f7-87cc-17ad65086c4d",
   "metadata": {},
   "outputs": [
    {
     "data": {
      "text/plain": [
       "[1, 4, 9, 16, 2025, 25]"
      ]
     },
     "execution_count": 2,
     "metadata": {},
     "output_type": "execute_result"
    }
   ],
   "source": [
    "l1"
   ]
  },
  {
   "cell_type": "code",
   "execution_count": 3,
   "id": "a3e02e30-76e7-466e-b9b6-ae59f43fd149",
   "metadata": {},
   "outputs": [
    {
     "data": {
      "text/plain": [
       "[1, 2, 3, 4, 45, 5]"
      ]
     },
     "execution_count": 3,
     "metadata": {},
     "output_type": "execute_result"
    }
   ],
   "source": [
    "l"
   ]
  },
  {
   "cell_type": "code",
   "execution_count": 4,
   "id": "a85918f5-a526-4fcf-95c8-71e9e6961e8c",
   "metadata": {},
   "outputs": [
    {
     "data": {
      "text/plain": [
       "[1, 4, 9, 16, 2025, 25]"
      ]
     },
     "execution_count": 4,
     "metadata": {},
     "output_type": "execute_result"
    }
   ],
   "source": [
    "[i**2 for i in l]"
   ]
  },
  {
   "cell_type": "code",
   "execution_count": 5,
   "id": "9e14a8a8-9843-48ad-af7e-3bf1ca7750cd",
   "metadata": {},
   "outputs": [
    {
     "data": {
      "text/plain": [
       "[2, 4]"
      ]
     },
     "execution_count": 5,
     "metadata": {},
     "output_type": "execute_result"
    }
   ],
   "source": [
    "[i for i in l if i % 2 == 0]"
   ]
  },
  {
   "cell_type": "code",
   "execution_count": 6,
   "id": "6bfab954-063e-427a-ab1a-dc208137f6cf",
   "metadata": {},
   "outputs": [],
   "source": [
    "l1 = [\"sudh\", \"pwskills\", \"kumar\", \"data science masters\"]"
   ]
  },
  {
   "cell_type": "code",
   "execution_count": 8,
   "id": "337550ea-d68e-4fd0-bdff-e75333b893e7",
   "metadata": {},
   "outputs": [
    {
     "data": {
      "text/plain": [
       "['SUDH', 'PWSKILLS', 'KUMAR', 'DATA SCIENCE MASTERS']"
      ]
     },
     "execution_count": 8,
     "metadata": {},
     "output_type": "execute_result"
    }
   ],
   "source": [
    "[i.upper() for i in l1]"
   ]
  },
  {
   "cell_type": "code",
   "execution_count": 9,
   "id": "3973f4f6-c234-4f9e-8901-c46fadd12026",
   "metadata": {},
   "outputs": [
    {
     "data": {
      "text/plain": [
       "[1, 2, 3, 4, 45, 5]"
      ]
     },
     "execution_count": 9,
     "metadata": {},
     "output_type": "execute_result"
    }
   ],
   "source": [
    "l"
   ]
  },
  {
   "cell_type": "code",
   "execution_count": 10,
   "id": "a65e9d96-8f84-4e7a-9d3b-d72fcb72afd1",
   "metadata": {},
   "outputs": [
    {
     "data": {
      "text/plain": [
       "[1, 4, 9, 16, 2025, 25]"
      ]
     },
     "execution_count": 10,
     "metadata": {},
     "output_type": "execute_result"
    }
   ],
   "source": [
    "list(i**2 for i in l)"
   ]
  },
  {
   "cell_type": "code",
   "execution_count": 13,
   "id": "29bae2ef-6876-4554-8a1f-4c93596686c8",
   "metadata": {},
   "outputs": [],
   "source": [
    "d = {\"key1\" : 1, \"key2\" : 2, \"key3\" : 3, \"key4\" : 4}"
   ]
  },
  {
   "cell_type": "code",
   "execution_count": 19,
   "id": "8307773b-ca5f-40e2-bbef-a243c707c43b",
   "metadata": {},
   "outputs": [
    {
     "data": {
      "text/plain": [
       "{'key1': 1, 'key2': 4, 'key3': 9, 'key4': 16}"
      ]
     },
     "execution_count": 19,
     "metadata": {},
     "output_type": "execute_result"
    }
   ],
   "source": [
    "{k : v**2 for k , v in d.items()}"
   ]
  },
  {
   "cell_type": "code",
   "execution_count": 20,
   "id": "3c5b9da8-198f-4fb8-b738-2e08bb825252",
   "metadata": {},
   "outputs": [
    {
     "ename": "SyntaxError",
     "evalue": "expected ':' (391083687.py, line 1)",
     "output_type": "error",
     "traceback": [
      "\u001b[0;36m  Cell \u001b[0;32mIn[20], line 1\u001b[0;36m\u001b[0m\n\u001b[0;31m    for k , v in d.items()\u001b[0m\n\u001b[0m                          ^\u001b[0m\n\u001b[0;31mSyntaxError\u001b[0m\u001b[0;31m:\u001b[0m expected ':'\n"
     ]
    }
   ],
   "source": [
    "for k , v in d.items()"
   ]
  },
  {
   "cell_type": "code",
   "execution_count": 21,
   "id": "268c9a21-72f0-4f09-92ef-cd7a4898a24b",
   "metadata": {},
   "outputs": [
    {
     "data": {
      "text/plain": [
       "dict_items([('key1', 1), ('key2', 2), ('key3', 3), ('key4', 4)])"
      ]
     },
     "execution_count": 21,
     "metadata": {},
     "output_type": "execute_result"
    }
   ],
   "source": [
    "d.items()"
   ]
  },
  {
   "cell_type": "code",
   "execution_count": 22,
   "id": "728728e0-6dc9-4bf5-98c2-957c031d39f3",
   "metadata": {},
   "outputs": [
    {
     "data": {
      "text/plain": [
       "{'key1': 1, 'key2': 2, 'key3': 3, 'key4': 4}"
      ]
     },
     "execution_count": 22,
     "metadata": {},
     "output_type": "execute_result"
    }
   ],
   "source": [
    "d"
   ]
  },
  {
   "cell_type": "code",
   "execution_count": null,
   "id": "b8d55667-cf54-41f9-8ebe-74656a73188b",
   "metadata": {},
   "outputs": [],
   "source": []
  }
 ],
 "metadata": {
  "kernelspec": {
   "display_name": "Python 3 (ipykernel)",
   "language": "python",
   "name": "python3"
  },
  "language_info": {
   "codemirror_mode": {
    "name": "ipython",
    "version": 3
   },
   "file_extension": ".py",
   "mimetype": "text/x-python",
   "name": "python",
   "nbconvert_exporter": "python",
   "pygments_lexer": "ipython3",
   "version": "3.10.8"
  }
 },
 "nbformat": 4,
 "nbformat_minor": 5
}
